{
 "cells": [
  {
   "cell_type": "code",
   "execution_count": 1,
   "id": "6e434814-0327-4418-a034-187608acda0c",
   "metadata": {},
   "outputs": [],
   "source": [
    "# import os\n",
    "# import getpass\n",
    "\n",
    "# import sqlite3\n",
    "\n",
    "# # Connect to the SQLite database\n",
    "# conn = sqlite3.connect('Chinook.db')\n",
    "\n",
    "# # Create a cursor object\n",
    "# cursor = conn.cursor()\n",
    "\n",
    "# # Execute SQL commands from the SQL script file\n",
    "# with open('Chinook_Sqlite.sql', 'r', encoding='utf-8') as sql_script:\n",
    "#     sql_commands = sql_script.read()\n",
    "#     cursor.executescript(sql_commands)\n",
    "\n",
    "# # Commit changes to the database\n",
    "# conn.commit()\n",
    "\n",
    "# # Execute SQL query\n",
    "# cursor.execute(\"SELECT * FROM Artist LIMIT 10;\")\n",
    "# rows = cursor.fetchall()\n",
    "\n",
    "# # Print the retrieved rows\n",
    "# for row in rows:\n",
    "#     print(row)\n",
    "\n",
    "# # Close the cursor and connection\n",
    "# cursor.close()\n",
    "# conn.close()\n"
   ]
  },
  {
   "cell_type": "code",
   "execution_count": 2,
   "id": "536d9fd8-0eb0-4e91-b308-8dd42549fc67",
   "metadata": {},
   "outputs": [
    {
     "name": "stdout",
     "output_type": "stream",
     "text": [
      "sqlite\n",
      "Available Tables:\n",
      "Album\n",
      "Artist\n",
      "Customer\n",
      "Employee\n",
      "Genre\n",
      "Invoice\n",
      "InvoiceLine\n",
      "MediaType\n",
      "Playlist\n",
      "PlaylistTrack\n",
      "Track\n"
     ]
    }
   ],
   "source": [
    "from langchain_community.utilities import SQLDatabase\n",
    "\n",
    "# Assuming you have already initialized the SQLDatabase object\n",
    "db = SQLDatabase.from_uri(\"sqlite:///Chinook.db\")\n",
    "\n",
    "# Print the database dialect\n",
    "print(db.dialect)\n",
    "\n",
    "# Get and print all the usable table names in the database\n",
    "table_names = db.get_usable_table_names()\n",
    "print(\"Available Tables:\")\n",
    "for table_name in table_names:\n",
    "    print(table_name)\n"
   ]
  },
  {
   "cell_type": "code",
   "execution_count": 3,
   "id": "109781fa-b5e9-444f-82f6-861887ee7cfc",
   "metadata": {},
   "outputs": [],
   "source": [
    "from langchain_community.llms import Ollama\n"
   ]
  },
  {
   "cell_type": "code",
   "execution_count": 4,
   "id": "8c9fe184-e295-4fdd-a911-218aa4893672",
   "metadata": {},
   "outputs": [
    {
     "data": {
      "text/plain": [
       "'\\nThe first man in the moon is a common phrase used to describe the fictional character Mr. Moon from the children\\'s book series \"Goodnight Moon\" by Margaret Wise Brown. The phrase is often used humorously or ironically to refer to someone who is feeling particularly cheeky or mischievous.\\n\\nFor example, if someone is misbehaving or causing trouble, someone might say \"Oh no, you\\'re being a naughty boy/girl, just like the first man in the moon!\" This usage of the phrase is similar to how people might say \"You\\'re acting like a little kid\" or \"You\\'re being a big baby.\"\\n\\nIt\\'s worth noting that there is no real person known as the \"first man in the moon,\" as the moon is a celestial body and does not have inhabitants. The phrase is purely fictional and used for humorous effect.'"
      ]
     },
     "execution_count": 4,
     "metadata": {},
     "output_type": "execute_result"
    }
   ],
   "source": [
    "llm = Ollama(model = \"llama2\")\n",
    "llm.invoke(\"The first man in the moon was ....\")"
   ]
  },
  {
   "cell_type": "code",
   "execution_count": 14,
   "id": "12f0c9ed-a67d-4fd5-b960-00c55e01afc9",
   "metadata": {},
   "outputs": [
    {
     "data": {
      "text/plain": [
       "[(1, 'AC/DC'),\n",
       " (2, 'Accept'),\n",
       " (3, 'Aerosmith'),\n",
       " (4, 'Alanis Morissette'),\n",
       " (5, 'Alice In Chains'),\n",
       " (6, 'Antônio Carlos Jobim'),\n",
       " (7, 'Apocalyptica'),\n",
       " (8, 'Audioslave'),\n",
       " (9, 'BackBeat'),\n",
       " (10, 'Billy Cobham')]"
      ]
     },
     "execution_count": 14,
     "metadata": {},
     "output_type": "execute_result"
    }
   ],
   "source": [
    "import sqlite3\n",
    "conn = sqlite3.connect('Chinook.db')\n",
    "\n",
    "# Create a cursor object\n",
    "cursor = conn.cursor()\n",
    "\n",
    "# Execute SQL commands from the SQL script file\n",
    "with open('Chinook_Sqlite.sql', 'r', encoding='utf-8') as sql_script:\n",
    "    sql_commands = sql_script.read()\n",
    "    cursor.executescript(sql_commands)\n",
    "\n",
    "# Commit changes to the database\n",
    "conn.commit()\n",
    "\n",
    "# Execute SQL query\n",
    "cursor.execute(\"SELECT * FROM Artist LIMIT 10;\")\n",
    "rows = cursor.fetchall()\n",
    "rows\n",
    "\n",
    "# Close the cursor and connection\n",
    "cursor.close()\n",
    "conn.close()"
   ]
  },
  {
   "cell_type": "code",
   "execution_count": 17,
   "id": "1d2b3df1-9b86-4c59-a48e-21423a50d8a1",
   "metadata": {},
   "outputs": [
    {
     "name": "stdout",
     "output_type": "stream",
     "text": [
      "('table', 'Album', 'Album', 2, 'CREATE TABLE [Album]\\n(\\n    [AlbumId] INTEGER  NOT NULL,\\n    [Title] NVARCHAR(160)  NOT NULL,\\n    [ArtistId] INTEGER  NOT NULL,\\n    CONSTRAINT [PK_Album] PRIMARY KEY  ([AlbumId]),\\n    FOREIGN KEY ([ArtistId]) REFERENCES [Artist] ([ArtistId]) \\n\\t\\tON DELETE NO ACTION ON UPDATE NO ACTION\\n)')\n",
      "('table', 'Artist', 'Artist', 3, 'CREATE TABLE [Artist]\\n(\\n    [ArtistId] INTEGER  NOT NULL,\\n    [Name] NVARCHAR(120),\\n    CONSTRAINT [PK_Artist] PRIMARY KEY  ([ArtistId])\\n)')\n",
      "('table', 'Customer', 'Customer', 4, 'CREATE TABLE [Customer]\\n(\\n    [CustomerId] INTEGER  NOT NULL,\\n    [FirstName] NVARCHAR(40)  NOT NULL,\\n    [LastName] NVARCHAR(20)  NOT NULL,\\n    [Company] NVARCHAR(80),\\n    [Address] NVARCHAR(70),\\n    [City] NVARCHAR(40),\\n    [State] NVARCHAR(40),\\n    [Country] NVARCHAR(40),\\n    [PostalCode] NVARCHAR(10),\\n    [Phone] NVARCHAR(24),\\n    [Fax] NVARCHAR(24),\\n    [Email] NVARCHAR(60)  NOT NULL,\\n    [SupportRepId] INTEGER,\\n    CONSTRAINT [PK_Customer] PRIMARY KEY  ([CustomerId]),\\n    FOREIGN KEY ([SupportRepId]) REFERENCES [Employee] ([EmployeeId]) \\n\\t\\tON DELETE NO ACTION ON UPDATE NO ACTION\\n)')\n",
      "('table', 'Employee', 'Employee', 5, 'CREATE TABLE [Employee]\\n(\\n    [EmployeeId] INTEGER  NOT NULL,\\n    [LastName] NVARCHAR(20)  NOT NULL,\\n    [FirstName] NVARCHAR(20)  NOT NULL,\\n    [Title] NVARCHAR(30),\\n    [ReportsTo] INTEGER,\\n    [BirthDate] DATETIME,\\n    [HireDate] DATETIME,\\n    [Address] NVARCHAR(70),\\n    [City] NVARCHAR(40),\\n    [State] NVARCHAR(40),\\n    [Country] NVARCHAR(40),\\n    [PostalCode] NVARCHAR(10),\\n    [Phone] NVARCHAR(24),\\n    [Fax] NVARCHAR(24),\\n    [Email] NVARCHAR(60),\\n    CONSTRAINT [PK_Employee] PRIMARY KEY  ([EmployeeId]),\\n    FOREIGN KEY ([ReportsTo]) REFERENCES [Employee] ([EmployeeId]) \\n\\t\\tON DELETE NO ACTION ON UPDATE NO ACTION\\n)')\n",
      "('table', 'Genre', 'Genre', 6, 'CREATE TABLE [Genre]\\n(\\n    [GenreId] INTEGER  NOT NULL,\\n    [Name] NVARCHAR(120),\\n    CONSTRAINT [PK_Genre] PRIMARY KEY  ([GenreId])\\n)')\n",
      "('table', 'Invoice', 'Invoice', 7, 'CREATE TABLE [Invoice]\\n(\\n    [InvoiceId] INTEGER  NOT NULL,\\n    [CustomerId] INTEGER  NOT NULL,\\n    [InvoiceDate] DATETIME  NOT NULL,\\n    [BillingAddress] NVARCHAR(70),\\n    [BillingCity] NVARCHAR(40),\\n    [BillingState] NVARCHAR(40),\\n    [BillingCountry] NVARCHAR(40),\\n    [BillingPostalCode] NVARCHAR(10),\\n    [Total] NUMERIC(10,2)  NOT NULL,\\n    CONSTRAINT [PK_Invoice] PRIMARY KEY  ([InvoiceId]),\\n    FOREIGN KEY ([CustomerId]) REFERENCES [Customer] ([CustomerId]) \\n\\t\\tON DELETE NO ACTION ON UPDATE NO ACTION\\n)')\n",
      "('table', 'InvoiceLine', 'InvoiceLine', 8, 'CREATE TABLE [InvoiceLine]\\n(\\n    [InvoiceLineId] INTEGER  NOT NULL,\\n    [InvoiceId] INTEGER  NOT NULL,\\n    [TrackId] INTEGER  NOT NULL,\\n    [UnitPrice] NUMERIC(10,2)  NOT NULL,\\n    [Quantity] INTEGER  NOT NULL,\\n    CONSTRAINT [PK_InvoiceLine] PRIMARY KEY  ([InvoiceLineId]),\\n    FOREIGN KEY ([InvoiceId]) REFERENCES [Invoice] ([InvoiceId]) \\n\\t\\tON DELETE NO ACTION ON UPDATE NO ACTION,\\n    FOREIGN KEY ([TrackId]) REFERENCES [Track] ([TrackId]) \\n\\t\\tON DELETE NO ACTION ON UPDATE NO ACTION\\n)')\n",
      "('table', 'MediaType', 'MediaType', 9, 'CREATE TABLE [MediaType]\\n(\\n    [MediaTypeId] INTEGER  NOT NULL,\\n    [Name] NVARCHAR(120),\\n    CONSTRAINT [PK_MediaType] PRIMARY KEY  ([MediaTypeId])\\n)')\n",
      "('table', 'Playlist', 'Playlist', 10, 'CREATE TABLE [Playlist]\\n(\\n    [PlaylistId] INTEGER  NOT NULL,\\n    [Name] NVARCHAR(120),\\n    CONSTRAINT [PK_Playlist] PRIMARY KEY  ([PlaylistId])\\n)')\n",
      "('table', 'PlaylistTrack', 'PlaylistTrack', 11, 'CREATE TABLE [PlaylistTrack]\\n(\\n    [PlaylistId] INTEGER  NOT NULL,\\n    [TrackId] INTEGER  NOT NULL,\\n    CONSTRAINT [PK_PlaylistTrack] PRIMARY KEY  ([PlaylistId], [TrackId]),\\n    FOREIGN KEY ([PlaylistId]) REFERENCES [Playlist] ([PlaylistId]) \\n\\t\\tON DELETE NO ACTION ON UPDATE NO ACTION,\\n    FOREIGN KEY ([TrackId]) REFERENCES [Track] ([TrackId]) \\n\\t\\tON DELETE NO ACTION ON UPDATE NO ACTION\\n)')\n",
      "('table', 'Track', 'Track', 13, 'CREATE TABLE [Track]\\n(\\n    [TrackId] INTEGER  NOT NULL,\\n    [Name] NVARCHAR(200)  NOT NULL,\\n    [AlbumId] INTEGER,\\n    [MediaTypeId] INTEGER  NOT NULL,\\n    [GenreId] INTEGER,\\n    [Composer] NVARCHAR(220),\\n    [Milliseconds] INTEGER  NOT NULL,\\n    [Bytes] INTEGER,\\n    [UnitPrice] NUMERIC(10,2)  NOT NULL,\\n    CONSTRAINT [PK_Track] PRIMARY KEY  ([TrackId]),\\n    FOREIGN KEY ([AlbumId]) REFERENCES [Album] ([AlbumId]) \\n\\t\\tON DELETE NO ACTION ON UPDATE NO ACTION,\\n    FOREIGN KEY ([GenreId]) REFERENCES [Genre] ([GenreId]) \\n\\t\\tON DELETE NO ACTION ON UPDATE NO ACTION,\\n    FOREIGN KEY ([MediaTypeId]) REFERENCES [MediaType] ([MediaTypeId]) \\n\\t\\tON DELETE NO ACTION ON UPDATE NO ACTION\\n)')\n"
     ]
    }
   ],
   "source": [
    "import sqlite3\n",
    "\n",
    "# Connect to the SQLite database\n",
    "conn = sqlite3.connect('Chinook.db')\n",
    "\n",
    "# Create a cursor object\n",
    "cursor = conn.cursor()\n",
    "\n",
    "# Query the schema information from sqlite_master table\n",
    "cursor.execute(\"SELECT * FROM sqlite_master WHERE type='table';\")\n",
    "\n",
    "# Fetch all rows from the cursor\n",
    "schema_rows = cursor.fetchall()\n",
    "\n",
    "# Print the schema information\n",
    "for row in schema_rows:\n",
    "    print(row)\n",
    "\n",
    "# Close the cursor and connection\n",
    "cursor.close()\n",
    "conn.close()"
   ]
  },
  {
   "cell_type": "code",
   "execution_count": 21,
   "id": "5c4b225f-1d53-4b7e-9b00-451a1c9ea433",
   "metadata": {},
   "outputs": [
    {
     "data": {
      "text/plain": [
       "'\\nTo retrieve data from the provided database, you will need to use SQL queries. Here are some examples of how to retrieve data from each table:\\n\\n**Album Table:**\\n```sql\\nSELECT * FROM Album;\\n```\\nThis query will return all rows from the `Album` table.\\n\\n**Artist Table:**\\n```sql\\nSELECT * FROM Artist;\\n```\\nThis query will return all rows from the `Artist` table.\\n\\n**Customer Table:**\\n```sql\\nSELECT * FROM Customer;\\n```\\nThis query will return all rows from the `Customer` table.\\n\\n**Employee Table:**\\n```sql\\nSELECT * FROM Employee;\\n```\\nThis query will return all rows from the `Employee` table.\\n\\n**Invoice Line Table:**\\n```sql\\nSELECT * FROM InvoiceLine;\\n```\\nThis query will return all rows from the `InvoiceLine` table.\\n\\n**Media Type Table:**\\n```sql\\nSELECT * FROM MediaType;\\n```\\nThis query will return all rows from the `MediaType` table.\\n\\n**Playlist Table:**\\n```sql\\nSELECT * FROM Playlist;\\n```\\nThis query will return all rows from the `Playlist` table.\\n\\n**Playlist Track Table:**\\n```sql\\nSELECT * FROM PlaylistTrack;\\n```\\nThis query will return all rows from the `PlaylistTrack` table.\\n\\n**Track Table:**\\n```sql\\nSELECT * FROM Track;\\n```\\nThis query will return all rows from the `Track` table.\\n\\nYou can also use aggregate functions and filters to narrow down the data you want to retrieve. For example, to retrieve the total number of tracks in each album, you could use a query like this:\\n```sql\\nSELECT AlbumId, COUNT(*) AS TotalTracks\\nFROM Track\\nGROUP BY AlbumId;\\n```\\nThis query will return the `AlbumId` and the total number of tracks (`COUNT`) for each album.\\n\\nI hope this helps! Let me know if you have any questions or need further assistance.'"
      ]
     },
     "execution_count": 21,
     "metadata": {},
     "output_type": "execute_result"
    }
   ],
   "source": [
    "llm.invoke(\"You have to provide the appropriate sql query and provide the assoicated data from the database provided. you can find the database details from \"+str(schema_rows))"
   ]
  },
  {
   "cell_type": "code",
   "execution_count": 22,
   "id": "6f8daab1-44ca-4d16-ae61-3b80695b15f3",
   "metadata": {},
   "outputs": [],
   "source": [
    "def askgpt(query):\n",
    "    response = llm.invoke(\" Provide the SQL Query to find the \"+query+\" where the database schema is \" + str(schema_rows))\n",
    "    # response = response.split('\\n')\n",
    "    return (response)\n"
   ]
  },
  {
   "cell_type": "code",
   "execution_count": 23,
   "id": "ec1d85a2-e921-401e-a0cf-7e22bc60a4c0",
   "metadata": {},
   "outputs": [
    {
     "name": "stdout",
     "output_type": "stream",
     "text": [
      "\n",
      "To find the number of employees in the database, you can use a SQL query like this:\n",
      "```\n",
      "SELECT COUNT(*) FROM Employee;\n",
      "```\n",
      "This will return the total number of rows in the `Employee` table.\n",
      "\n",
      "Alternatively, you can use the following query to find the number of employees in each department:\n",
      "```\n",
      "WITH DEPARTMENT_COUNT AS (\n",
      "  SELECT DEPARTMENT, COUNT(*) as num_employees\n",
      "  FROM Employee\n",
      "  GROUP BY DEPARTMENT\n",
      ")\n",
      "SELECT * FROM DEPARTMENT_COUNT;\n",
      "```\n",
      "This will return a result set with the name of each department and the number of employees in that department.\n"
     ]
    }
   ],
   "source": [
    "query = \"How many employees are there?\"\n",
    "print(askgpt(query))"
   ]
  },
  {
   "cell_type": "code",
   "execution_count": null,
   "id": "29178489-c7f8-4518-b7cd-fa4d41cbf0a2",
   "metadata": {},
   "outputs": [],
   "source": [
    "query = \"How many employees are there?\"\n",
    "print(askgpt(query))"
   ]
  },
  {
   "cell_type": "code",
   "execution_count": 26,
   "id": "b84f280f-3b86-4424-9d9c-b62a969b9456",
   "metadata": {},
   "outputs": [],
   "source": [
    "questionsList = [\n",
    "\"Which artist have highest and lowest number of albumns?\",\n",
    "\"Which customer is most active as per track purchase?\",\n",
    "\"Which track is most selling and lowest selling?\",\n",
    "\"Give Genre wise ttotal and average number of tracks?\",\n",
    "\"How many playlist have more than 10 number of tracks?\"\n",
    "]"
   ]
  },
  {
   "cell_type": "code",
   "execution_count": 27,
   "id": "fd98b185-aae4-44d6-b67e-658712e82ab4",
   "metadata": {},
   "outputs": [
    {
     "name": "stdout",
     "output_type": "stream",
     "text": [
      "Running for Which artist have highest and lowest number of albumns?...\n",
      "\n",
      "To find the artist with the highest number of albums and the artist with the lowest number of albums, you can use a subquery to get the count of albums for each artist and then select the artists with the highest and lowest counts. Here is an example SQL query:\n",
      "```\n",
      "SELECT artist_id, COUNT(*) as album_count\n",
      "FROM Album\n",
      "JOIN Artist ON Album.artist_id = Artist.artist_id\n",
      "GROUP BY artist_id;\n",
      "\n",
      "SELECT artist_id, COUNT(*) as album_count\n",
      "FROM Album\n",
      "JOIN Artist ON Album.artist_id = Artist.artist_id\n",
      "WHERE artist_id IN (SELECT artist_id FROM previous_query);\n",
      "```\n",
      "In the first query, we are joining the `Album` table with the `Artist` table on the `artist_id` column, and then grouping by the `artist_id`. This will give us the count of albums for each artist.\n",
      "\n",
      "In the second query, we are selecting the artists that have a count of albums greater than or equal to the highest count found in the first query.\n",
      "\n",
      "Here is an example result set:\n",
      "```\n",
      "artist_id | album_count\n",
      "-----------|----------\n",
      "1         | 50\n",
      "2         | 30\n",
      "3         | 20\n",
      "4         | 10\n",
      "5         | 8\n",
      "6         | 7\n",
      "7         | 5\n",
      "8         | 3\n",
      "9         | 2\n",
      "```\n",
      "In this example, artist `1` has the highest number of albums (50), and artist `9` has the lowest number of albums (2).\n",
      "Running for Which customer is most active as per track purchase?...\n",
      "To find the most active customer in terms of number of purchases, you can use a SQL query like this:\n",
      "```\n",
      "SELECT c.CustomerId, COUNT(*) as num_purchases\n",
      "FROM Customer c\n",
      "JOIN Invoice i ON c.CustomerId = i.CustomerId\n",
      "JOIN Track t ON i.InvoiceLineId = t.InvoiceLineId\n",
      "GROUP BY c.CustomerId\n",
      "ORDER BY num_purchases DESC;\n",
      "```\n",
      "Explanation:\n",
      "\n",
      "* The `SELECT` clause selects the `CustomerId` and the count of purchases (`num_purchases`) for each customer.\n",
      "* The `FROM` clause specifies the tables to join: `Customer`, `Invoice`, and `Track`.\n",
      "* The `JOIN` clauses specify the relationships between the tables: `Customer` joins `Invoice` on the `CustomerId` column, and `InvoiceLineId` joins `Track` on the `InvoiceLineId` column.\n",
      "* The `GROUP BY` clause groups the results by the `CustomerId`.\n",
      "* The `ORDER BY` clause sorts the results by the count of purchases in descending order (most active customers first).\n",
      "\n",
      "Note that this query assumes that each customer has only one purchase, which may not be the case in your data. If you need to account for multiple purchases per customer, you can modify the query accordingly.\n",
      "Running for Which track is most selling and lowest selling?...\n",
      "\n",
      "To find the most selling track and lowest selling track, you can use a query like this:\n",
      "```\n",
      "-- Find the most selling track\n",
      "SELECT * FROM [Track] WHERE Total = (\n",
      "    SELECT SUM(Total) FROM [InvoiceLine] WHERE [InvoiceId] = (\n",
      "        SELECT [InvoiceId] FROM [Invoice] WHERE [CustomerId] = (\n",
      "            SELECT [CustomerId] FROM [Customer] WHERE [Firstname] = 'John'\n",
      "        )\n",
      "    )\n",
      ");\n",
      "\n",
      "-- Find the lowest selling track\n",
      "SELECT * FROM [Track] WHERE Total = (\n",
      "    SELECT MIN(Total) FROM [InvoiceLine] WHERE [InvoiceId] = (\n",
      "        SELECT [InvoiceId] FROM [Invoice] WHERE [CustomerId] = (\n",
      "            SELECT [CustomerId] FROM [Customer] WHERE [Firstname] = 'Jane'\n",
      "        )\n",
      "    )\n",
      ");\n",
      "```\n",
      "This will return the most selling track based on the total amount of sales, and the lowest selling track based on the minimum total amount of sales.\n",
      "\n",
      "You can also use a subquery to get the top N selling tracks, by using a correlated subquery:\n",
      "```\n",
      "SELECT * FROM [Track]\n",
      "WHERE Total IN (\n",
      "    SELECT Total FROM [InvoiceLine]\n",
      "    WHERE [InvoiceId] IN (\n",
      "        SELECT [InvoiceId] FROM [Invoice]\n",
      "        WHERE [CustomerId] IN (\n",
      "            SELECT [CustomerId] FROM [Customer]\n",
      "            WHERE [Firstname] = 'John'\n",
      "        )\n",
      "    )\n",
      ");\n",
      "```\n",
      "This will return the top 3 selling tracks based on the total amount of sales.\n",
      "\n",
      "You can also use window functions to get the ranking of the tracks, by using a subquery to get the running total and then rank the tracks based on that:\n",
      "```\n",
      "WITH Ranking AS (\n",
      "    SELECT [TrackId], SUM(Total) OVER (ORDER BY Total DESC) AS Rank\n",
      "    FROM [InvoiceLine]\n",
      "    WHERE [InvoiceId] IN (\n",
      "        SELECT [InvoiceId] FROM [Invoice]\n",
      "        WHERE [CustomerId] IN (\n",
      "            SELECT [CustomerId] FROM [Customer]\n",
      "            WHERE [Firstname] = 'John'\n",
      "        )\n",
      "    )\n",
      ")\n",
      "SELECT * FROM Ranking;\n",
      "```\n",
      "This will return the ranking of the tracks based on their total amount of sales.\n",
      "\n",
      "Please note that these are just examples, you can adjust them according to your needs and table structure.\n",
      "Running for Give Genre wise ttotal and average number of tracks?...\n",
      "\n",
      "To find the total number of tracks and the average number of tracks per genre, you can use a SQL query like this:\n",
      "```\n",
      "SELECT COUNT(*) as total_tracks, AVG(COUNT(*) OVER (PARTITION BY genre)) as avg_tracks\n",
      "FROM tracks;\n",
      "```\n",
      "This will give you two columns: `total_tracks` which is the total number of tracks in the database, and `avg_tracks` which is the average number of tracks per genre.\n",
      "\n",
      "The `OVER` clause is used to specify that we want to average the number of tracks over the genre column. The `COUNT(*)` function counts the number of rows in each partition (in this case, by genre). The `AVG()` function then calculates the average of those numbers.\n",
      "\n",
      "Note: This assumes that the `genre` column is a categorical column with distinct values. If the `genre` column is not categorical or if there are duplicate values in the `genre` column, you may need to modify the query accordingly.\n",
      "Running for How many playlist have more than 10 number of tracks?...\n",
      "\n",
      "To find the number of playlists that have more than 10 tracks, you can use a SQL query like this:\n",
      "```\n",
      "SELECT COUNT(*) FROM Playlist WHERE LENGTH(Tracks) > 10;\n",
      "```\n",
      "This will count the number of playlists that have more than 10 tracks. The `LENGTH` function is used to calculate the number of tracks in each playlist, and the `COUNT` function counts the number of playlists that have more than 10 tracks.\n",
      "\n",
      "Here's a breakdown of the query:\n",
      "\n",
      "* `SELECT`: Selects the result set that we want to retrieve. In this case, we want to count the number of playlists that have more than 10 tracks.\n",
      "* `COUNT(*)`: Counts the number of playlists that have more than 10 tracks. The `*` is a wildcard that selects all columns in the result set.\n",
      "* `FROM Playlist` : Specifies the table we want to query. In this case, we want to count the number of playlists that have more than 10 tracks.\n",
      "* `WHERE LENGTH(Tracks) > 10`: Filters the results to only include playlists that have more than 10 tracks. The `LENGTH` function calculates the length of the `Tracks` column in each row, and the `>` operator filters out any rows where the length is greater than 10.\n",
      "\n",
      "Note: The `LENGTH` function returns the number of characters in a string, so we need to multiply it by the number of tracks in each playlist to get the total number of tracks.\n",
      "Total time taken: 4351.444422960281 seconds\n"
     ]
    }
   ],
   "source": [
    "import time\n",
    "\n",
    "start_time = time.time()\n",
    "\n",
    "for query in questionsList:\n",
    "    print(\"Running for \"+query+\"...\")\n",
    "    print(askgpt(query))\n",
    "\n",
    "end_time = time.time()\n",
    "elapsed_time = end_time - start_time\n",
    "\n",
    "print(\"Total time taken:\", elapsed_time, \"seconds\")"
   ]
  },
  {
   "cell_type": "code",
   "execution_count": 28,
   "id": "ec51a4cb-8769-4e24-a5cb-b7fe46af6671",
   "metadata": {},
   "outputs": [
    {
     "data": {
      "text/plain": [
       "72.5240737160047"
      ]
     },
     "execution_count": 28,
     "metadata": {},
     "output_type": "execute_result"
    }
   ],
   "source": [
    "4351.444422960281/60"
   ]
  },
  {
   "cell_type": "code",
   "execution_count": 6,
   "id": "a3afbb0a-903a-4cd3-bcb0-e1a4cb56897a",
   "metadata": {},
   "outputs": [
    {
     "ename": "KeyboardInterrupt",
     "evalue": "",
     "output_type": "error",
     "traceback": [
      "\u001b[1;31m---------------------------------------------------------------------------\u001b[0m",
      "\u001b[1;31mKeyboardInterrupt\u001b[0m                         Traceback (most recent call last)",
      "Cell \u001b[1;32mIn[6], line 3\u001b[0m\n\u001b[0;32m      1\u001b[0m \u001b[38;5;28;01mfrom\u001b[39;00m \u001b[38;5;21;01mlangchain\u001b[39;00m\u001b[38;5;21;01m.\u001b[39;00m\u001b[38;5;21;01mchains\u001b[39;00m \u001b[38;5;28;01mimport\u001b[39;00m create_sql_query_chain\n\u001b[0;32m      2\u001b[0m chain \u001b[38;5;241m=\u001b[39m create_sql_query_chain(llm, db)\n\u001b[1;32m----> 3\u001b[0m response \u001b[38;5;241m=\u001b[39m \u001b[43mchain\u001b[49m\u001b[38;5;241;43m.\u001b[39;49m\u001b[43minvoke\u001b[49m\u001b[43m(\u001b[49m\u001b[43m{\u001b[49m\u001b[38;5;124;43m\"\u001b[39;49m\u001b[38;5;124;43mquestion\u001b[39;49m\u001b[38;5;124;43m\"\u001b[39;49m\u001b[43m:\u001b[49m\u001b[43m \u001b[49m\u001b[38;5;124;43m\"\u001b[39;49m\u001b[38;5;124;43mHow many employees are there\u001b[39;49m\u001b[38;5;124;43m\"\u001b[39;49m\u001b[43m}\u001b[49m\u001b[43m)\u001b[49m\n\u001b[0;32m      4\u001b[0m response\n",
      "File \u001b[1;32m~\\AppData\\Local\\Programs\\Python\\Python311\\Lib\\site-packages\\langchain_core\\runnables\\base.py:2075\u001b[0m, in \u001b[0;36mRunnableSequence.invoke\u001b[1;34m(self, input, config)\u001b[0m\n\u001b[0;32m   2073\u001b[0m \u001b[38;5;28;01mtry\u001b[39;00m:\n\u001b[0;32m   2074\u001b[0m     \u001b[38;5;28;01mfor\u001b[39;00m i, step \u001b[38;5;129;01min\u001b[39;00m \u001b[38;5;28menumerate\u001b[39m(\u001b[38;5;28mself\u001b[39m\u001b[38;5;241m.\u001b[39msteps):\n\u001b[1;32m-> 2075\u001b[0m         \u001b[38;5;28minput\u001b[39m \u001b[38;5;241m=\u001b[39m \u001b[43mstep\u001b[49m\u001b[38;5;241;43m.\u001b[39;49m\u001b[43minvoke\u001b[49m\u001b[43m(\u001b[49m\n\u001b[0;32m   2076\u001b[0m \u001b[43m            \u001b[49m\u001b[38;5;28;43minput\u001b[39;49m\u001b[43m,\u001b[49m\n\u001b[0;32m   2077\u001b[0m \u001b[43m            \u001b[49m\u001b[38;5;66;43;03m# mark each step as a child run\u001b[39;49;00m\n\u001b[0;32m   2078\u001b[0m \u001b[43m            \u001b[49m\u001b[43mpatch_config\u001b[49m\u001b[43m(\u001b[49m\n\u001b[0;32m   2079\u001b[0m \u001b[43m                \u001b[49m\u001b[43mconfig\u001b[49m\u001b[43m,\u001b[49m\u001b[43m \u001b[49m\u001b[43mcallbacks\u001b[49m\u001b[38;5;241;43m=\u001b[39;49m\u001b[43mrun_manager\u001b[49m\u001b[38;5;241;43m.\u001b[39;49m\u001b[43mget_child\u001b[49m\u001b[43m(\u001b[49m\u001b[38;5;124;43mf\u001b[39;49m\u001b[38;5;124;43m\"\u001b[39;49m\u001b[38;5;124;43mseq:step:\u001b[39;49m\u001b[38;5;132;43;01m{\u001b[39;49;00m\u001b[43mi\u001b[49m\u001b[38;5;241;43m+\u001b[39;49m\u001b[38;5;241;43m1\u001b[39;49m\u001b[38;5;132;43;01m}\u001b[39;49;00m\u001b[38;5;124;43m\"\u001b[39;49m\u001b[43m)\u001b[49m\n\u001b[0;32m   2080\u001b[0m \u001b[43m            \u001b[49m\u001b[43m)\u001b[49m\u001b[43m,\u001b[49m\n\u001b[0;32m   2081\u001b[0m \u001b[43m        \u001b[49m\u001b[43m)\u001b[49m\n\u001b[0;32m   2082\u001b[0m \u001b[38;5;66;03m# finish the root run\u001b[39;00m\n\u001b[0;32m   2083\u001b[0m \u001b[38;5;28;01mexcept\u001b[39;00m \u001b[38;5;167;01mBaseException\u001b[39;00m \u001b[38;5;28;01mas\u001b[39;00m e:\n",
      "File \u001b[1;32m~\\AppData\\Local\\Programs\\Python\\Python311\\Lib\\site-packages\\langchain_core\\runnables\\base.py:4069\u001b[0m, in \u001b[0;36mRunnableBindingBase.invoke\u001b[1;34m(self, input, config, **kwargs)\u001b[0m\n\u001b[0;32m   4063\u001b[0m \u001b[38;5;28;01mdef\u001b[39;00m \u001b[38;5;21minvoke\u001b[39m(\n\u001b[0;32m   4064\u001b[0m     \u001b[38;5;28mself\u001b[39m,\n\u001b[0;32m   4065\u001b[0m     \u001b[38;5;28minput\u001b[39m: Input,\n\u001b[0;32m   4066\u001b[0m     config: Optional[RunnableConfig] \u001b[38;5;241m=\u001b[39m \u001b[38;5;28;01mNone\u001b[39;00m,\n\u001b[0;32m   4067\u001b[0m     \u001b[38;5;241m*\u001b[39m\u001b[38;5;241m*\u001b[39mkwargs: Optional[Any],\n\u001b[0;32m   4068\u001b[0m ) \u001b[38;5;241m-\u001b[39m\u001b[38;5;241m>\u001b[39m Output:\n\u001b[1;32m-> 4069\u001b[0m     \u001b[38;5;28;01mreturn\u001b[39;00m \u001b[38;5;28;43mself\u001b[39;49m\u001b[38;5;241;43m.\u001b[39;49m\u001b[43mbound\u001b[49m\u001b[38;5;241;43m.\u001b[39;49m\u001b[43minvoke\u001b[49m\u001b[43m(\u001b[49m\n\u001b[0;32m   4070\u001b[0m \u001b[43m        \u001b[49m\u001b[38;5;28;43minput\u001b[39;49m\u001b[43m,\u001b[49m\n\u001b[0;32m   4071\u001b[0m \u001b[43m        \u001b[49m\u001b[38;5;28;43mself\u001b[39;49m\u001b[38;5;241;43m.\u001b[39;49m\u001b[43m_merge_configs\u001b[49m\u001b[43m(\u001b[49m\u001b[43mconfig\u001b[49m\u001b[43m)\u001b[49m\u001b[43m,\u001b[49m\n\u001b[0;32m   4072\u001b[0m \u001b[43m        \u001b[49m\u001b[38;5;241;43m*\u001b[39;49m\u001b[38;5;241;43m*\u001b[39;49m\u001b[43m{\u001b[49m\u001b[38;5;241;43m*\u001b[39;49m\u001b[38;5;241;43m*\u001b[39;49m\u001b[38;5;28;43mself\u001b[39;49m\u001b[38;5;241;43m.\u001b[39;49m\u001b[43mkwargs\u001b[49m\u001b[43m,\u001b[49m\u001b[43m \u001b[49m\u001b[38;5;241;43m*\u001b[39;49m\u001b[38;5;241;43m*\u001b[39;49m\u001b[43mkwargs\u001b[49m\u001b[43m}\u001b[49m\u001b[43m,\u001b[49m\n\u001b[0;32m   4073\u001b[0m \u001b[43m    \u001b[49m\u001b[43m)\u001b[49m\n",
      "File \u001b[1;32m~\\AppData\\Local\\Programs\\Python\\Python311\\Lib\\site-packages\\langchain_core\\language_models\\llms.py:273\u001b[0m, in \u001b[0;36mBaseLLM.invoke\u001b[1;34m(self, input, config, stop, **kwargs)\u001b[0m\n\u001b[0;32m    263\u001b[0m \u001b[38;5;28;01mdef\u001b[39;00m \u001b[38;5;21minvoke\u001b[39m(\n\u001b[0;32m    264\u001b[0m     \u001b[38;5;28mself\u001b[39m,\n\u001b[0;32m    265\u001b[0m     \u001b[38;5;28minput\u001b[39m: LanguageModelInput,\n\u001b[1;32m   (...)\u001b[0m\n\u001b[0;32m    269\u001b[0m     \u001b[38;5;241m*\u001b[39m\u001b[38;5;241m*\u001b[39mkwargs: Any,\n\u001b[0;32m    270\u001b[0m ) \u001b[38;5;241m-\u001b[39m\u001b[38;5;241m>\u001b[39m \u001b[38;5;28mstr\u001b[39m:\n\u001b[0;32m    271\u001b[0m     config \u001b[38;5;241m=\u001b[39m ensure_config(config)\n\u001b[0;32m    272\u001b[0m     \u001b[38;5;28;01mreturn\u001b[39;00m (\n\u001b[1;32m--> 273\u001b[0m         \u001b[38;5;28;43mself\u001b[39;49m\u001b[38;5;241;43m.\u001b[39;49m\u001b[43mgenerate_prompt\u001b[49m\u001b[43m(\u001b[49m\n\u001b[0;32m    274\u001b[0m \u001b[43m            \u001b[49m\u001b[43m[\u001b[49m\u001b[38;5;28;43mself\u001b[39;49m\u001b[38;5;241;43m.\u001b[39;49m\u001b[43m_convert_input\u001b[49m\u001b[43m(\u001b[49m\u001b[38;5;28;43minput\u001b[39;49m\u001b[43m)\u001b[49m\u001b[43m]\u001b[49m\u001b[43m,\u001b[49m\n\u001b[0;32m    275\u001b[0m \u001b[43m            \u001b[49m\u001b[43mstop\u001b[49m\u001b[38;5;241;43m=\u001b[39;49m\u001b[43mstop\u001b[49m\u001b[43m,\u001b[49m\n\u001b[0;32m    276\u001b[0m \u001b[43m            \u001b[49m\u001b[43mcallbacks\u001b[49m\u001b[38;5;241;43m=\u001b[39;49m\u001b[43mconfig\u001b[49m\u001b[38;5;241;43m.\u001b[39;49m\u001b[43mget\u001b[49m\u001b[43m(\u001b[49m\u001b[38;5;124;43m\"\u001b[39;49m\u001b[38;5;124;43mcallbacks\u001b[39;49m\u001b[38;5;124;43m\"\u001b[39;49m\u001b[43m)\u001b[49m\u001b[43m,\u001b[49m\n\u001b[0;32m    277\u001b[0m \u001b[43m            \u001b[49m\u001b[43mtags\u001b[49m\u001b[38;5;241;43m=\u001b[39;49m\u001b[43mconfig\u001b[49m\u001b[38;5;241;43m.\u001b[39;49m\u001b[43mget\u001b[49m\u001b[43m(\u001b[49m\u001b[38;5;124;43m\"\u001b[39;49m\u001b[38;5;124;43mtags\u001b[39;49m\u001b[38;5;124;43m\"\u001b[39;49m\u001b[43m)\u001b[49m\u001b[43m,\u001b[49m\n\u001b[0;32m    278\u001b[0m \u001b[43m            \u001b[49m\u001b[43mmetadata\u001b[49m\u001b[38;5;241;43m=\u001b[39;49m\u001b[43mconfig\u001b[49m\u001b[38;5;241;43m.\u001b[39;49m\u001b[43mget\u001b[49m\u001b[43m(\u001b[49m\u001b[38;5;124;43m\"\u001b[39;49m\u001b[38;5;124;43mmetadata\u001b[39;49m\u001b[38;5;124;43m\"\u001b[39;49m\u001b[43m)\u001b[49m\u001b[43m,\u001b[49m\n\u001b[0;32m    279\u001b[0m \u001b[43m            \u001b[49m\u001b[43mrun_name\u001b[49m\u001b[38;5;241;43m=\u001b[39;49m\u001b[43mconfig\u001b[49m\u001b[38;5;241;43m.\u001b[39;49m\u001b[43mget\u001b[49m\u001b[43m(\u001b[49m\u001b[38;5;124;43m\"\u001b[39;49m\u001b[38;5;124;43mrun_name\u001b[39;49m\u001b[38;5;124;43m\"\u001b[39;49m\u001b[43m)\u001b[49m\u001b[43m,\u001b[49m\n\u001b[0;32m    280\u001b[0m \u001b[43m            \u001b[49m\u001b[38;5;241;43m*\u001b[39;49m\u001b[38;5;241;43m*\u001b[39;49m\u001b[43mkwargs\u001b[49m\u001b[43m,\u001b[49m\n\u001b[0;32m    281\u001b[0m \u001b[43m        \u001b[49m\u001b[43m)\u001b[49m\n\u001b[0;32m    282\u001b[0m         \u001b[38;5;241m.\u001b[39mgenerations[\u001b[38;5;241m0\u001b[39m][\u001b[38;5;241m0\u001b[39m]\n\u001b[0;32m    283\u001b[0m         \u001b[38;5;241m.\u001b[39mtext\n\u001b[0;32m    284\u001b[0m     )\n",
      "File \u001b[1;32m~\\AppData\\Local\\Programs\\Python\\Python311\\Lib\\site-packages\\langchain_core\\language_models\\llms.py:568\u001b[0m, in \u001b[0;36mBaseLLM.generate_prompt\u001b[1;34m(self, prompts, stop, callbacks, **kwargs)\u001b[0m\n\u001b[0;32m    560\u001b[0m \u001b[38;5;28;01mdef\u001b[39;00m \u001b[38;5;21mgenerate_prompt\u001b[39m(\n\u001b[0;32m    561\u001b[0m     \u001b[38;5;28mself\u001b[39m,\n\u001b[0;32m    562\u001b[0m     prompts: List[PromptValue],\n\u001b[1;32m   (...)\u001b[0m\n\u001b[0;32m    565\u001b[0m     \u001b[38;5;241m*\u001b[39m\u001b[38;5;241m*\u001b[39mkwargs: Any,\n\u001b[0;32m    566\u001b[0m ) \u001b[38;5;241m-\u001b[39m\u001b[38;5;241m>\u001b[39m LLMResult:\n\u001b[0;32m    567\u001b[0m     prompt_strings \u001b[38;5;241m=\u001b[39m [p\u001b[38;5;241m.\u001b[39mto_string() \u001b[38;5;28;01mfor\u001b[39;00m p \u001b[38;5;129;01min\u001b[39;00m prompts]\n\u001b[1;32m--> 568\u001b[0m     \u001b[38;5;28;01mreturn\u001b[39;00m \u001b[38;5;28;43mself\u001b[39;49m\u001b[38;5;241;43m.\u001b[39;49m\u001b[43mgenerate\u001b[49m\u001b[43m(\u001b[49m\u001b[43mprompt_strings\u001b[49m\u001b[43m,\u001b[49m\u001b[43m \u001b[49m\u001b[43mstop\u001b[49m\u001b[38;5;241;43m=\u001b[39;49m\u001b[43mstop\u001b[49m\u001b[43m,\u001b[49m\u001b[43m \u001b[49m\u001b[43mcallbacks\u001b[49m\u001b[38;5;241;43m=\u001b[39;49m\u001b[43mcallbacks\u001b[49m\u001b[43m,\u001b[49m\u001b[43m \u001b[49m\u001b[38;5;241;43m*\u001b[39;49m\u001b[38;5;241;43m*\u001b[39;49m\u001b[43mkwargs\u001b[49m\u001b[43m)\u001b[49m\n",
      "File \u001b[1;32m~\\AppData\\Local\\Programs\\Python\\Python311\\Lib\\site-packages\\langchain_core\\language_models\\llms.py:741\u001b[0m, in \u001b[0;36mBaseLLM.generate\u001b[1;34m(self, prompts, stop, callbacks, tags, metadata, run_name, **kwargs)\u001b[0m\n\u001b[0;32m    725\u001b[0m         \u001b[38;5;28;01mraise\u001b[39;00m \u001b[38;5;167;01mValueError\u001b[39;00m(\n\u001b[0;32m    726\u001b[0m             \u001b[38;5;124m\"\u001b[39m\u001b[38;5;124mAsked to cache, but no cache found at `langchain.cache`.\u001b[39m\u001b[38;5;124m\"\u001b[39m\n\u001b[0;32m    727\u001b[0m         )\n\u001b[0;32m    728\u001b[0m     run_managers \u001b[38;5;241m=\u001b[39m [\n\u001b[0;32m    729\u001b[0m         callback_manager\u001b[38;5;241m.\u001b[39mon_llm_start(\n\u001b[0;32m    730\u001b[0m             dumpd(\u001b[38;5;28mself\u001b[39m),\n\u001b[1;32m   (...)\u001b[0m\n\u001b[0;32m    739\u001b[0m         )\n\u001b[0;32m    740\u001b[0m     ]\n\u001b[1;32m--> 741\u001b[0m     output \u001b[38;5;241m=\u001b[39m \u001b[38;5;28;43mself\u001b[39;49m\u001b[38;5;241;43m.\u001b[39;49m\u001b[43m_generate_helper\u001b[49m\u001b[43m(\u001b[49m\n\u001b[0;32m    742\u001b[0m \u001b[43m        \u001b[49m\u001b[43mprompts\u001b[49m\u001b[43m,\u001b[49m\u001b[43m \u001b[49m\u001b[43mstop\u001b[49m\u001b[43m,\u001b[49m\u001b[43m \u001b[49m\u001b[43mrun_managers\u001b[49m\u001b[43m,\u001b[49m\u001b[43m \u001b[49m\u001b[38;5;28;43mbool\u001b[39;49m\u001b[43m(\u001b[49m\u001b[43mnew_arg_supported\u001b[49m\u001b[43m)\u001b[49m\u001b[43m,\u001b[49m\u001b[43m \u001b[49m\u001b[38;5;241;43m*\u001b[39;49m\u001b[38;5;241;43m*\u001b[39;49m\u001b[43mkwargs\u001b[49m\n\u001b[0;32m    743\u001b[0m \u001b[43m    \u001b[49m\u001b[43m)\u001b[49m\n\u001b[0;32m    744\u001b[0m     \u001b[38;5;28;01mreturn\u001b[39;00m output\n\u001b[0;32m    745\u001b[0m \u001b[38;5;28;01mif\u001b[39;00m \u001b[38;5;28mlen\u001b[39m(missing_prompts) \u001b[38;5;241m>\u001b[39m \u001b[38;5;241m0\u001b[39m:\n",
      "File \u001b[1;32m~\\AppData\\Local\\Programs\\Python\\Python311\\Lib\\site-packages\\langchain_core\\language_models\\llms.py:605\u001b[0m, in \u001b[0;36mBaseLLM._generate_helper\u001b[1;34m(self, prompts, stop, run_managers, new_arg_supported, **kwargs)\u001b[0m\n\u001b[0;32m    603\u001b[0m     \u001b[38;5;28;01mfor\u001b[39;00m run_manager \u001b[38;5;129;01min\u001b[39;00m run_managers:\n\u001b[0;32m    604\u001b[0m         run_manager\u001b[38;5;241m.\u001b[39mon_llm_error(e, response\u001b[38;5;241m=\u001b[39mLLMResult(generations\u001b[38;5;241m=\u001b[39m[]))\n\u001b[1;32m--> 605\u001b[0m     \u001b[38;5;28;01mraise\u001b[39;00m e\n\u001b[0;32m    606\u001b[0m flattened_outputs \u001b[38;5;241m=\u001b[39m output\u001b[38;5;241m.\u001b[39mflatten()\n\u001b[0;32m    607\u001b[0m \u001b[38;5;28;01mfor\u001b[39;00m manager, flattened_output \u001b[38;5;129;01min\u001b[39;00m \u001b[38;5;28mzip\u001b[39m(run_managers, flattened_outputs):\n",
      "File \u001b[1;32m~\\AppData\\Local\\Programs\\Python\\Python311\\Lib\\site-packages\\langchain_core\\language_models\\llms.py:592\u001b[0m, in \u001b[0;36mBaseLLM._generate_helper\u001b[1;34m(self, prompts, stop, run_managers, new_arg_supported, **kwargs)\u001b[0m\n\u001b[0;32m    582\u001b[0m \u001b[38;5;28;01mdef\u001b[39;00m \u001b[38;5;21m_generate_helper\u001b[39m(\n\u001b[0;32m    583\u001b[0m     \u001b[38;5;28mself\u001b[39m,\n\u001b[0;32m    584\u001b[0m     prompts: List[\u001b[38;5;28mstr\u001b[39m],\n\u001b[1;32m   (...)\u001b[0m\n\u001b[0;32m    588\u001b[0m     \u001b[38;5;241m*\u001b[39m\u001b[38;5;241m*\u001b[39mkwargs: Any,\n\u001b[0;32m    589\u001b[0m ) \u001b[38;5;241m-\u001b[39m\u001b[38;5;241m>\u001b[39m LLMResult:\n\u001b[0;32m    590\u001b[0m     \u001b[38;5;28;01mtry\u001b[39;00m:\n\u001b[0;32m    591\u001b[0m         output \u001b[38;5;241m=\u001b[39m (\n\u001b[1;32m--> 592\u001b[0m             \u001b[38;5;28;43mself\u001b[39;49m\u001b[38;5;241;43m.\u001b[39;49m\u001b[43m_generate\u001b[49m\u001b[43m(\u001b[49m\n\u001b[0;32m    593\u001b[0m \u001b[43m                \u001b[49m\u001b[43mprompts\u001b[49m\u001b[43m,\u001b[49m\n\u001b[0;32m    594\u001b[0m \u001b[43m                \u001b[49m\u001b[43mstop\u001b[49m\u001b[38;5;241;43m=\u001b[39;49m\u001b[43mstop\u001b[49m\u001b[43m,\u001b[49m\n\u001b[0;32m    595\u001b[0m \u001b[43m                \u001b[49m\u001b[38;5;66;43;03m# TODO: support multiple run managers\u001b[39;49;00m\n\u001b[0;32m    596\u001b[0m \u001b[43m                \u001b[49m\u001b[43mrun_manager\u001b[49m\u001b[38;5;241;43m=\u001b[39;49m\u001b[43mrun_managers\u001b[49m\u001b[43m[\u001b[49m\u001b[38;5;241;43m0\u001b[39;49m\u001b[43m]\u001b[49m\u001b[43m \u001b[49m\u001b[38;5;28;43;01mif\u001b[39;49;00m\u001b[43m \u001b[49m\u001b[43mrun_managers\u001b[49m\u001b[43m \u001b[49m\u001b[38;5;28;43;01melse\u001b[39;49;00m\u001b[43m \u001b[49m\u001b[38;5;28;43;01mNone\u001b[39;49;00m\u001b[43m,\u001b[49m\n\u001b[0;32m    597\u001b[0m \u001b[43m                \u001b[49m\u001b[38;5;241;43m*\u001b[39;49m\u001b[38;5;241;43m*\u001b[39;49m\u001b[43mkwargs\u001b[49m\u001b[43m,\u001b[49m\n\u001b[0;32m    598\u001b[0m \u001b[43m            \u001b[49m\u001b[43m)\u001b[49m\n\u001b[0;32m    599\u001b[0m             \u001b[38;5;28;01mif\u001b[39;00m new_arg_supported\n\u001b[0;32m    600\u001b[0m             \u001b[38;5;28;01melse\u001b[39;00m \u001b[38;5;28mself\u001b[39m\u001b[38;5;241m.\u001b[39m_generate(prompts, stop\u001b[38;5;241m=\u001b[39mstop)\n\u001b[0;32m    601\u001b[0m         )\n\u001b[0;32m    602\u001b[0m     \u001b[38;5;28;01mexcept\u001b[39;00m \u001b[38;5;167;01mBaseException\u001b[39;00m \u001b[38;5;28;01mas\u001b[39;00m e:\n\u001b[0;32m    603\u001b[0m         \u001b[38;5;28;01mfor\u001b[39;00m run_manager \u001b[38;5;129;01min\u001b[39;00m run_managers:\n",
      "File \u001b[1;32m~\\AppData\\Local\\Programs\\Python\\Python311\\Lib\\site-packages\\langchain_community\\llms\\ollama.py:408\u001b[0m, in \u001b[0;36mOllama._generate\u001b[1;34m(self, prompts, stop, images, run_manager, **kwargs)\u001b[0m\n\u001b[0;32m    406\u001b[0m generations \u001b[38;5;241m=\u001b[39m []\n\u001b[0;32m    407\u001b[0m \u001b[38;5;28;01mfor\u001b[39;00m prompt \u001b[38;5;129;01min\u001b[39;00m prompts:\n\u001b[1;32m--> 408\u001b[0m     final_chunk \u001b[38;5;241m=\u001b[39m \u001b[38;5;28;43msuper\u001b[39;49m\u001b[43m(\u001b[49m\u001b[43m)\u001b[49m\u001b[38;5;241;43m.\u001b[39;49m\u001b[43m_stream_with_aggregation\u001b[49m\u001b[43m(\u001b[49m\n\u001b[0;32m    409\u001b[0m \u001b[43m        \u001b[49m\u001b[43mprompt\u001b[49m\u001b[43m,\u001b[49m\n\u001b[0;32m    410\u001b[0m \u001b[43m        \u001b[49m\u001b[43mstop\u001b[49m\u001b[38;5;241;43m=\u001b[39;49m\u001b[43mstop\u001b[49m\u001b[43m,\u001b[49m\n\u001b[0;32m    411\u001b[0m \u001b[43m        \u001b[49m\u001b[43mimages\u001b[49m\u001b[38;5;241;43m=\u001b[39;49m\u001b[43mimages\u001b[49m\u001b[43m,\u001b[49m\n\u001b[0;32m    412\u001b[0m \u001b[43m        \u001b[49m\u001b[43mrun_manager\u001b[49m\u001b[38;5;241;43m=\u001b[39;49m\u001b[43mrun_manager\u001b[49m\u001b[43m,\u001b[49m\n\u001b[0;32m    413\u001b[0m \u001b[43m        \u001b[49m\u001b[43mverbose\u001b[49m\u001b[38;5;241;43m=\u001b[39;49m\u001b[38;5;28;43mself\u001b[39;49m\u001b[38;5;241;43m.\u001b[39;49m\u001b[43mverbose\u001b[49m\u001b[43m,\u001b[49m\n\u001b[0;32m    414\u001b[0m \u001b[43m        \u001b[49m\u001b[38;5;241;43m*\u001b[39;49m\u001b[38;5;241;43m*\u001b[39;49m\u001b[43mkwargs\u001b[49m\u001b[43m,\u001b[49m\n\u001b[0;32m    415\u001b[0m \u001b[43m    \u001b[49m\u001b[43m)\u001b[49m\n\u001b[0;32m    416\u001b[0m     generations\u001b[38;5;241m.\u001b[39mappend([final_chunk])\n\u001b[0;32m    417\u001b[0m \u001b[38;5;28;01mreturn\u001b[39;00m LLMResult(generations\u001b[38;5;241m=\u001b[39mgenerations)\n",
      "File \u001b[1;32m~\\AppData\\Local\\Programs\\Python\\Python311\\Lib\\site-packages\\langchain_community\\llms\\ollama.py:317\u001b[0m, in \u001b[0;36m_OllamaCommon._stream_with_aggregation\u001b[1;34m(self, prompt, stop, run_manager, verbose, **kwargs)\u001b[0m\n\u001b[0;32m    308\u001b[0m \u001b[38;5;28;01mdef\u001b[39;00m \u001b[38;5;21m_stream_with_aggregation\u001b[39m(\n\u001b[0;32m    309\u001b[0m     \u001b[38;5;28mself\u001b[39m,\n\u001b[0;32m    310\u001b[0m     prompt: \u001b[38;5;28mstr\u001b[39m,\n\u001b[1;32m   (...)\u001b[0m\n\u001b[0;32m    314\u001b[0m     \u001b[38;5;241m*\u001b[39m\u001b[38;5;241m*\u001b[39mkwargs: Any,\n\u001b[0;32m    315\u001b[0m ) \u001b[38;5;241m-\u001b[39m\u001b[38;5;241m>\u001b[39m GenerationChunk:\n\u001b[0;32m    316\u001b[0m     final_chunk: Optional[GenerationChunk] \u001b[38;5;241m=\u001b[39m \u001b[38;5;28;01mNone\u001b[39;00m\n\u001b[1;32m--> 317\u001b[0m     \u001b[38;5;28;01mfor\u001b[39;00m stream_resp \u001b[38;5;129;01min\u001b[39;00m \u001b[38;5;28mself\u001b[39m\u001b[38;5;241m.\u001b[39m_create_generate_stream(prompt, stop, \u001b[38;5;241m*\u001b[39m\u001b[38;5;241m*\u001b[39mkwargs):\n\u001b[0;32m    318\u001b[0m         \u001b[38;5;28;01mif\u001b[39;00m stream_resp:\n\u001b[0;32m    319\u001b[0m             chunk \u001b[38;5;241m=\u001b[39m _stream_response_to_generation_chunk(stream_resp)\n",
      "File \u001b[1;32m~\\AppData\\Local\\Programs\\Python\\Python311\\Lib\\site-packages\\langchain_community\\llms\\ollama.py:159\u001b[0m, in \u001b[0;36m_OllamaCommon._create_generate_stream\u001b[1;34m(self, prompt, stop, images, **kwargs)\u001b[0m\n\u001b[0;32m    151\u001b[0m \u001b[38;5;28;01mdef\u001b[39;00m \u001b[38;5;21m_create_generate_stream\u001b[39m(\n\u001b[0;32m    152\u001b[0m     \u001b[38;5;28mself\u001b[39m,\n\u001b[0;32m    153\u001b[0m     prompt: \u001b[38;5;28mstr\u001b[39m,\n\u001b[1;32m   (...)\u001b[0m\n\u001b[0;32m    156\u001b[0m     \u001b[38;5;241m*\u001b[39m\u001b[38;5;241m*\u001b[39mkwargs: Any,\n\u001b[0;32m    157\u001b[0m ) \u001b[38;5;241m-\u001b[39m\u001b[38;5;241m>\u001b[39m Iterator[\u001b[38;5;28mstr\u001b[39m]:\n\u001b[0;32m    158\u001b[0m     payload \u001b[38;5;241m=\u001b[39m {\u001b[38;5;124m\"\u001b[39m\u001b[38;5;124mprompt\u001b[39m\u001b[38;5;124m\"\u001b[39m: prompt, \u001b[38;5;124m\"\u001b[39m\u001b[38;5;124mimages\u001b[39m\u001b[38;5;124m\"\u001b[39m: images}\n\u001b[1;32m--> 159\u001b[0m     \u001b[38;5;28;01myield from\u001b[39;00m \u001b[38;5;28mself\u001b[39m\u001b[38;5;241m.\u001b[39m_create_stream(\n\u001b[0;32m    160\u001b[0m         payload\u001b[38;5;241m=\u001b[39mpayload,\n\u001b[0;32m    161\u001b[0m         stop\u001b[38;5;241m=\u001b[39mstop,\n\u001b[0;32m    162\u001b[0m         api_url\u001b[38;5;241m=\u001b[39m\u001b[38;5;124mf\u001b[39m\u001b[38;5;124m\"\u001b[39m\u001b[38;5;132;01m{\u001b[39;00m\u001b[38;5;28mself\u001b[39m\u001b[38;5;241m.\u001b[39mbase_url\u001b[38;5;132;01m}\u001b[39;00m\u001b[38;5;124m/api/generate\u001b[39m\u001b[38;5;124m\"\u001b[39m,\n\u001b[0;32m    163\u001b[0m         \u001b[38;5;241m*\u001b[39m\u001b[38;5;241m*\u001b[39mkwargs,\n\u001b[0;32m    164\u001b[0m     )\n",
      "File \u001b[1;32m~\\AppData\\Local\\Programs\\Python\\Python311\\Lib\\site-packages\\requests\\models.py:865\u001b[0m, in \u001b[0;36mResponse.iter_lines\u001b[1;34m(self, chunk_size, decode_unicode, delimiter)\u001b[0m\n\u001b[0;32m    856\u001b[0m \u001b[38;5;250m\u001b[39m\u001b[38;5;124;03m\"\"\"Iterates over the response data, one line at a time.  When\u001b[39;00m\n\u001b[0;32m    857\u001b[0m \u001b[38;5;124;03mstream=True is set on the request, this avoids reading the\u001b[39;00m\n\u001b[0;32m    858\u001b[0m \u001b[38;5;124;03mcontent at once into memory for large responses.\u001b[39;00m\n\u001b[0;32m    859\u001b[0m \n\u001b[0;32m    860\u001b[0m \u001b[38;5;124;03m.. note:: This method is not reentrant safe.\u001b[39;00m\n\u001b[0;32m    861\u001b[0m \u001b[38;5;124;03m\"\"\"\u001b[39;00m\n\u001b[0;32m    863\u001b[0m pending \u001b[38;5;241m=\u001b[39m \u001b[38;5;28;01mNone\u001b[39;00m\n\u001b[1;32m--> 865\u001b[0m \u001b[38;5;28;01mfor\u001b[39;00m chunk \u001b[38;5;129;01min\u001b[39;00m \u001b[38;5;28mself\u001b[39m\u001b[38;5;241m.\u001b[39miter_content(\n\u001b[0;32m    866\u001b[0m     chunk_size\u001b[38;5;241m=\u001b[39mchunk_size, decode_unicode\u001b[38;5;241m=\u001b[39mdecode_unicode\n\u001b[0;32m    867\u001b[0m ):\n\u001b[0;32m    869\u001b[0m     \u001b[38;5;28;01mif\u001b[39;00m pending \u001b[38;5;129;01mis\u001b[39;00m \u001b[38;5;129;01mnot\u001b[39;00m \u001b[38;5;28;01mNone\u001b[39;00m:\n\u001b[0;32m    870\u001b[0m         chunk \u001b[38;5;241m=\u001b[39m pending \u001b[38;5;241m+\u001b[39m chunk\n",
      "File \u001b[1;32m~\\AppData\\Local\\Programs\\Python\\Python311\\Lib\\site-packages\\requests\\utils.py:571\u001b[0m, in \u001b[0;36mstream_decode_response_unicode\u001b[1;34m(iterator, r)\u001b[0m\n\u001b[0;32m    568\u001b[0m     \u001b[38;5;28;01mreturn\u001b[39;00m\n\u001b[0;32m    570\u001b[0m decoder \u001b[38;5;241m=\u001b[39m codecs\u001b[38;5;241m.\u001b[39mgetincrementaldecoder(r\u001b[38;5;241m.\u001b[39mencoding)(errors\u001b[38;5;241m=\u001b[39m\u001b[38;5;124m\"\u001b[39m\u001b[38;5;124mreplace\u001b[39m\u001b[38;5;124m\"\u001b[39m)\n\u001b[1;32m--> 571\u001b[0m \u001b[38;5;28;01mfor\u001b[39;00m chunk \u001b[38;5;129;01min\u001b[39;00m iterator:\n\u001b[0;32m    572\u001b[0m     rv \u001b[38;5;241m=\u001b[39m decoder\u001b[38;5;241m.\u001b[39mdecode(chunk)\n\u001b[0;32m    573\u001b[0m     \u001b[38;5;28;01mif\u001b[39;00m rv:\n",
      "File \u001b[1;32m~\\AppData\\Local\\Programs\\Python\\Python311\\Lib\\site-packages\\requests\\models.py:816\u001b[0m, in \u001b[0;36mResponse.iter_content.<locals>.generate\u001b[1;34m()\u001b[0m\n\u001b[0;32m    814\u001b[0m \u001b[38;5;28;01mif\u001b[39;00m \u001b[38;5;28mhasattr\u001b[39m(\u001b[38;5;28mself\u001b[39m\u001b[38;5;241m.\u001b[39mraw, \u001b[38;5;124m\"\u001b[39m\u001b[38;5;124mstream\u001b[39m\u001b[38;5;124m\"\u001b[39m):\n\u001b[0;32m    815\u001b[0m     \u001b[38;5;28;01mtry\u001b[39;00m:\n\u001b[1;32m--> 816\u001b[0m         \u001b[38;5;28;01myield from\u001b[39;00m \u001b[38;5;28mself\u001b[39m\u001b[38;5;241m.\u001b[39mraw\u001b[38;5;241m.\u001b[39mstream(chunk_size, decode_content\u001b[38;5;241m=\u001b[39m\u001b[38;5;28;01mTrue\u001b[39;00m)\n\u001b[0;32m    817\u001b[0m     \u001b[38;5;28;01mexcept\u001b[39;00m ProtocolError \u001b[38;5;28;01mas\u001b[39;00m e:\n\u001b[0;32m    818\u001b[0m         \u001b[38;5;28;01mraise\u001b[39;00m ChunkedEncodingError(e)\n",
      "File \u001b[1;32m~\\AppData\\Local\\Programs\\Python\\Python311\\Lib\\site-packages\\urllib3\\response.py:933\u001b[0m, in \u001b[0;36mHTTPResponse.stream\u001b[1;34m(self, amt, decode_content)\u001b[0m\n\u001b[0;32m    917\u001b[0m \u001b[38;5;250m\u001b[39m\u001b[38;5;124;03m\"\"\"\u001b[39;00m\n\u001b[0;32m    918\u001b[0m \u001b[38;5;124;03mA generator wrapper for the read() method. A call will block until\u001b[39;00m\n\u001b[0;32m    919\u001b[0m \u001b[38;5;124;03m``amt`` bytes have been read from the connection or until the\u001b[39;00m\n\u001b[1;32m   (...)\u001b[0m\n\u001b[0;32m    930\u001b[0m \u001b[38;5;124;03m    'content-encoding' header.\u001b[39;00m\n\u001b[0;32m    931\u001b[0m \u001b[38;5;124;03m\"\"\"\u001b[39;00m\n\u001b[0;32m    932\u001b[0m \u001b[38;5;28;01mif\u001b[39;00m \u001b[38;5;28mself\u001b[39m\u001b[38;5;241m.\u001b[39mchunked \u001b[38;5;129;01mand\u001b[39;00m \u001b[38;5;28mself\u001b[39m\u001b[38;5;241m.\u001b[39msupports_chunked_reads():\n\u001b[1;32m--> 933\u001b[0m     \u001b[38;5;28;01myield from\u001b[39;00m \u001b[38;5;28mself\u001b[39m\u001b[38;5;241m.\u001b[39mread_chunked(amt, decode_content\u001b[38;5;241m=\u001b[39mdecode_content)\n\u001b[0;32m    934\u001b[0m \u001b[38;5;28;01melse\u001b[39;00m:\n\u001b[0;32m    935\u001b[0m     \u001b[38;5;28;01mwhile\u001b[39;00m \u001b[38;5;129;01mnot\u001b[39;00m is_fp_closed(\u001b[38;5;28mself\u001b[39m\u001b[38;5;241m.\u001b[39m_fp) \u001b[38;5;129;01mor\u001b[39;00m \u001b[38;5;28mlen\u001b[39m(\u001b[38;5;28mself\u001b[39m\u001b[38;5;241m.\u001b[39m_decoded_buffer) \u001b[38;5;241m>\u001b[39m \u001b[38;5;241m0\u001b[39m:\n",
      "File \u001b[1;32m~\\AppData\\Local\\Programs\\Python\\Python311\\Lib\\site-packages\\urllib3\\response.py:1073\u001b[0m, in \u001b[0;36mHTTPResponse.read_chunked\u001b[1;34m(self, amt, decode_content)\u001b[0m\n\u001b[0;32m   1070\u001b[0m     \u001b[38;5;28;01mreturn\u001b[39;00m \u001b[38;5;28;01mNone\u001b[39;00m\n\u001b[0;32m   1072\u001b[0m \u001b[38;5;28;01mwhile\u001b[39;00m \u001b[38;5;28;01mTrue\u001b[39;00m:\n\u001b[1;32m-> 1073\u001b[0m     \u001b[38;5;28;43mself\u001b[39;49m\u001b[38;5;241;43m.\u001b[39;49m\u001b[43m_update_chunk_length\u001b[49m\u001b[43m(\u001b[49m\u001b[43m)\u001b[49m\n\u001b[0;32m   1074\u001b[0m     \u001b[38;5;28;01mif\u001b[39;00m \u001b[38;5;28mself\u001b[39m\u001b[38;5;241m.\u001b[39mchunk_left \u001b[38;5;241m==\u001b[39m \u001b[38;5;241m0\u001b[39m:\n\u001b[0;32m   1075\u001b[0m         \u001b[38;5;28;01mbreak\u001b[39;00m\n",
      "File \u001b[1;32m~\\AppData\\Local\\Programs\\Python\\Python311\\Lib\\site-packages\\urllib3\\response.py:1001\u001b[0m, in \u001b[0;36mHTTPResponse._update_chunk_length\u001b[1;34m(self)\u001b[0m\n\u001b[0;32m    999\u001b[0m \u001b[38;5;28;01mif\u001b[39;00m \u001b[38;5;28mself\u001b[39m\u001b[38;5;241m.\u001b[39mchunk_left \u001b[38;5;129;01mis\u001b[39;00m \u001b[38;5;129;01mnot\u001b[39;00m \u001b[38;5;28;01mNone\u001b[39;00m:\n\u001b[0;32m   1000\u001b[0m     \u001b[38;5;28;01mreturn\u001b[39;00m \u001b[38;5;28;01mNone\u001b[39;00m\n\u001b[1;32m-> 1001\u001b[0m line \u001b[38;5;241m=\u001b[39m \u001b[38;5;28mself\u001b[39m\u001b[38;5;241m.\u001b[39m_fp\u001b[38;5;241m.\u001b[39mfp\u001b[38;5;241m.\u001b[39mreadline()  \u001b[38;5;66;03m# type: ignore[union-attr]\u001b[39;00m\n\u001b[0;32m   1002\u001b[0m line \u001b[38;5;241m=\u001b[39m line\u001b[38;5;241m.\u001b[39msplit(\u001b[38;5;124mb\u001b[39m\u001b[38;5;124m\"\u001b[39m\u001b[38;5;124m;\u001b[39m\u001b[38;5;124m\"\u001b[39m, \u001b[38;5;241m1\u001b[39m)[\u001b[38;5;241m0\u001b[39m]\n\u001b[0;32m   1003\u001b[0m \u001b[38;5;28;01mtry\u001b[39;00m:\n",
      "File \u001b[1;32m~\\AppData\\Local\\Programs\\Python\\Python311\\Lib\\socket.py:706\u001b[0m, in \u001b[0;36mSocketIO.readinto\u001b[1;34m(self, b)\u001b[0m\n\u001b[0;32m    704\u001b[0m \u001b[38;5;28;01mwhile\u001b[39;00m \u001b[38;5;28;01mTrue\u001b[39;00m:\n\u001b[0;32m    705\u001b[0m     \u001b[38;5;28;01mtry\u001b[39;00m:\n\u001b[1;32m--> 706\u001b[0m         \u001b[38;5;28;01mreturn\u001b[39;00m \u001b[38;5;28;43mself\u001b[39;49m\u001b[38;5;241;43m.\u001b[39;49m\u001b[43m_sock\u001b[49m\u001b[38;5;241;43m.\u001b[39;49m\u001b[43mrecv_into\u001b[49m\u001b[43m(\u001b[49m\u001b[43mb\u001b[49m\u001b[43m)\u001b[49m\n\u001b[0;32m    707\u001b[0m     \u001b[38;5;28;01mexcept\u001b[39;00m timeout:\n\u001b[0;32m    708\u001b[0m         \u001b[38;5;28mself\u001b[39m\u001b[38;5;241m.\u001b[39m_timeout_occurred \u001b[38;5;241m=\u001b[39m \u001b[38;5;28;01mTrue\u001b[39;00m\n",
      "\u001b[1;31mKeyboardInterrupt\u001b[0m: "
     ]
    }
   ],
   "source": [
    "from langchain.chains import create_sql_query_chain\n",
    "chain = create_sql_query_chain(llm, db)\n",
    "response = chain.invoke({\"question\": \"How many employees are there\"})\n",
    "response"
   ]
  },
  {
   "cell_type": "code",
   "execution_count": null,
   "id": "ab5095b6-3f9e-4b52-8655-a86b062d5631",
   "metadata": {},
   "outputs": [],
   "source": [
    "from langchain_community.tools.sql_database.tool import QuerySQLDataBaseTool\n",
    "\n",
    "execute_query = QuerySQLDataBaseTool(db=db)\n",
    "write_query = create_sql_query_chain(ollama, db)\n",
    "chain = write_query | execute_query\n",
    "chain.invoke({\"question\": \"How many employees are there\"})"
   ]
  }
 ],
 "metadata": {
  "kernelspec": {
   "display_name": "Python 3 (ipykernel)",
   "language": "python",
   "name": "python3"
  },
  "language_info": {
   "codemirror_mode": {
    "name": "ipython",
    "version": 3
   },
   "file_extension": ".py",
   "mimetype": "text/x-python",
   "name": "python",
   "nbconvert_exporter": "python",
   "pygments_lexer": "ipython3",
   "version": "3.11.5"
  }
 },
 "nbformat": 4,
 "nbformat_minor": 5
}
